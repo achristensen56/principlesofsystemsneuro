{
 "cells": [
  {
   "cell_type": "code",
   "execution_count": 3,
   "id": "9e7d7fa5",
   "metadata": {},
   "outputs": [],
   "source": [
    "#environment\n",
    "t = 0\n",
    "dt = .1\n",
    "t_max = 100\n",
    "T_env = None\n",
    "T_env_log =[]\n",
    "time_log = []\n",
    "\n",
    "\n",
    "#agent\n",
    "T_agent_log =[]\n",
    "T_agent = 120\n",
    "T_equil = 98\n",
    "g_agent = .01\n",
    "\n",
    "while(t < t_max):\n",
    "    #environment\n",
    "        #exist\n",
    "        T_env_log.append(T_env)\n",
    "        time_log.append(t)\n",
    "        \n",
    "        #interact\n",
    "        pass\n",
    "        \n",
    "        #advance\n",
    "        t = t + dt\n",
    "        \n",
    "    #agent\n",
    "        #exist\n",
    "        T_agent_log.append(T_agent)\n",
    "        \n",
    "        #interact\n",
    "        #monitor\n",
    "        delta = T_agent - T_equil\n",
    "        #decide\n",
    "        step = g_agent*delta\n",
    "        #act\n",
    "        T_agent = T_agent -step\n",
    "            "
   ]
  },
  {
   "cell_type": "code",
   "execution_count": 5,
   "id": "81ca4671",
   "metadata": {},
   "outputs": [
    {
     "data": {
      "image/png": "[encoded data removed]",
      "text/plain": [
       "<Figure size 432x288 with 1 Axes>"
      ]
     },
     "metadata": {
      "needs_background": "light"
     },
     "output_type": "display_data"
    }
   ],
   "source": [
    "import matplotlib.pyplot as plt\n",
    "import seaborn as sns\n",
    "%matplotlib inline\n",
    "\n",
    "plt.plot(time_log, T_env_log, 'g', label = 'environment_temp')\n",
    "plt.plot(time_log, T_agent_log, 'r', label = 'agent_temp')\n",
    "plt.axhline(T_equil, linestyle = '--')\n",
    "\n",
    "sns.despine()"
   ]
  },
  {
   "cell_type": "code",
   "execution_count": 29,
   "id": "9a7bbc6b",
   "metadata": {},
   "outputs": [],
   "source": [
    "#environment\n",
    "t = 0\n",
    "dt = .1\n",
    "t_max = 100\n",
    "T_env = 98\n",
    "T_env_log =[]\n",
    "time_log = []\n",
    "g_env = .01\n",
    "\n",
    "generate_temp = lambda time: 98 if ((time < 50) or (time > 60)) else 79\n",
    "\n",
    "\n",
    "#agent\n",
    "T_agent_log =[]\n",
    "T_agent = 120\n",
    "T_equil = 98\n",
    "g_agent = .01\n",
    "margin = 2\n",
    "\n",
    "while(t < t_max):\n",
    "    #environment\n",
    "        #exist\n",
    "        T_env = generate_temp(t)\n",
    "        T_env_log.append(T_env)\n",
    "        time_log.append(t)\n",
    "        \n",
    "        #interact\n",
    "        T_agent = T_agent - g_env*(T_agent - T_env)\n",
    "        \n",
    "        #advance\n",
    "        t = t + dt\n",
    "        \n",
    "    #agent\n",
    "        #exist\n",
    "        T_agent_log.append(T_agent)\n",
    "        \n",
    "        #interact\n",
    "        #monitor\n",
    "        delta = T_agent - T_equil\n",
    "        #decide\n",
    "        if abs(delta) > margin:\n",
    "            step = g_agent*delta\n",
    "        #act\n",
    "        T_agent = T_agent -step"
   ]
  },
  {
   "cell_type": "code",
   "execution_count": 30,
   "id": "ae409f14",
   "metadata": {},
   "outputs": [
    {
     "data": {
      "image/png": "[encoded data removed]",
      "text/plain": [
       "<Figure size 432x288 with 1 Axes>"
      ]
     },
     "metadata": {
      "needs_background": "light"
     },
     "output_type": "display_data"
    }
   ],
   "source": [
    "import matplotlib.pyplot as plt\n",
    "import seaborn as sns\n",
    "%matplotlib inline\n",
    "\n",
    "plt.plot(time_log, T_env_log, 'g', label = 'environment_temp')\n",
    "plt.plot(time_log, T_agent_log, 'r', label = 'agent_temp')\n",
    "plt.axhline(T_equil, linestyle = '--')\n",
    "plt.axhline(T_equil + margin, color = 'k', linestyle = '--')\n",
    "plt.axhline(T_equil - margin, color  = 'k', linestyle = '--')\n",
    "\n",
    "\n",
    "sns.despine()"
   ]
  },
  {
   "cell_type": "code",
   "execution_count": 74,
   "id": "b4d5787b",
   "metadata": {},
   "outputs": [],
   "source": [
    "\n",
    "\n",
    "class simple_env:\n",
    "    def __init__(self, t_max = 100, T_init = 98, g = .01, dt = .01):\n",
    "\n",
    "        \n",
    "        self.dt = dt\n",
    "        self.t_max = t_max\n",
    "        self.T_env = T_init\n",
    "        \n",
    "        self.T_env_log =[]\n",
    "        self.time_log = []\n",
    "        self.g_env = g\n",
    "        \n",
    "        self.generate_temp = lambda time: 98 if ((time < 50) or (time > 60)) else 79\n",
    "        self.t = 0\n",
    "\n",
    "    def exist(self):\n",
    "        self.T_env = self.generate_temp(self.t)\n",
    "        \n",
    "        self.T_env_log.append(self.T_env)\n",
    "        self.time_log.append(self.t)\n",
    "\n",
    "\n",
    "    def interact(self, agent):\n",
    "        agent.T_agent = agent.T_agent - self.g_env*(agent.T_agent - self.T_env)\n",
    "\n",
    "    def advance(self, agent):\n",
    "        self.exist()\n",
    "        self.interact(agent)\n",
    "        self.t = self.t + self.dt\n",
    "        \n",
    "        agent.advance()\n",
    "\n",
    "\n",
    "class simple_agent:\n",
    "    def __init__(self, T_equil = 98, T_init = 120, g= .01, margin  = 2):\n",
    "#agent\n",
    "        self.T_agent_log = []\n",
    "        self.T_agent = T_init\n",
    "        self.T_equil = T_equil\n",
    "        self.g_agent = g\n",
    "        self.margin = margin \n",
    "        self.energy = 50\n",
    "        self.energy_log = []\n",
    "        self.dead = False\n",
    "        \n",
    "    #agent\n",
    "    def exist(self):\n",
    "        #exist\n",
    "        self.T_agent_log.append(self.T_agent)\n",
    "        self.energy_log.append(self.energy)\n",
    "        if self.energy < 0:\n",
    "            self.dead = True\n",
    "        \n",
    "        \n",
    "    def monitor(self):\n",
    "        return self.T_agent - self.T_equil\n",
    "    \n",
    "    def update(self, step):\n",
    "        self.energy -= .1\n",
    "        self.T_agent = self.T_agent - step\n",
    "    \n",
    "    def interact(self):\n",
    "        #monitor\n",
    "        delta = self.monitor()\n",
    "        #decide\n",
    "        \n",
    " \n",
    "        if abs(delta) > self.margin:\n",
    "            step = self.g_agent*delta\n",
    "            self.update(step)\n",
    "    \n",
    "    def advance(self):\n",
    "        self.exist()\n",
    "        self.interact()\n",
    "        \n",
    "\n",
    "        \n",
    "agent = simple_agent(g = .05, margin = 2)\n",
    "env = simple_env()\n",
    "\n",
    "while(env.t < env.t_max and not agent.dead):\n",
    "    env.advance(agent)"
   ]
  },
  {
   "cell_type": "code",
   "execution_count": 75,
   "id": "7b5d811a",
   "metadata": {},
   "outputs": [
    {
     "data": {
      "image/png": "[encoded data removed]",
      "text/plain": [
       "<Figure size 720x360 with 2 Axes>"
      ]
     },
     "metadata": {
      "needs_background": "light"
     },
     "output_type": "display_data"
    }
   ],
   "source": [
    "import matplotlib.pyplot as plt\n",
    "import seaborn as sns\n",
    "%matplotlib inline\n",
    "\n",
    "plt.figure(figsize = [10, 5])\n",
    "\n",
    "plt.subplot(121)\n",
    "plt.plot(env.time_log, env.T_env_log, 'g', label = 'environment_temp')\n",
    "plt.plot(env.time_log, agent.T_agent_log, 'r', label = 'agent_temp')\n",
    "plt.axhline(agent.T_equil, linestyle = '--')\n",
    "plt.axhline(agent.T_equil + margin, color = 'k', linestyle = '--')\n",
    "plt.axhline(agent.T_equil - margin, color  = 'k', linestyle = '--')\n",
    "plt.legend()\n",
    "sns.despine()\n",
    "\n",
    "plt.subplot(122)\n",
    "plt.plot(env.time_log, agent.energy_log, 'm', label= 'energy_log')\n",
    "sns.despine()\n"
   ]
  },
  {
   "cell_type": "code",
   "execution_count": null,
   "id": "372a869d",
   "metadata": {},
   "outputs": [],
   "source": []
  }
 ],
 "metadata": {
  "kernelspec": {
   "display_name": "Python 3 (ipykernel)",
   "language": "python",
   "name": "python3"
  },
  "language_info": {
   "codemirror_mode": {
    "name": "ipython",
    "version": 3
   },
   "file_extension": ".py",
   "mimetype": "text/x-python",
   "name": "python",
   "nbconvert_exporter": "python",
   "pygments_lexer": "ipython3",
   "version": "3.10.2"
  }
 },
 "nbformat": 4,
 "nbformat_minor": 5
}
